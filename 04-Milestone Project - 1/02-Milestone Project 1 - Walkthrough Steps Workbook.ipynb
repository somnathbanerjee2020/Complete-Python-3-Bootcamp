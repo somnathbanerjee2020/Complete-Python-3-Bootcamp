{
 "cells": [
  {
   "cell_type": "markdown",
   "metadata": {},
   "source": [
    "___\n",
    "\n",
    "<a href='https://www.udemy.com/user/joseportilla/'><img src='../Pierian_Data_Logo.png'/></a>\n",
    "___\n",
    "<center><em>Content Copyright by Pierian Data</em></center>"
   ]
  },
  {
   "cell_type": "markdown",
   "metadata": {},
   "source": [
    "# Milestone Project 1: Walkthrough Steps Workbook\n",
    "\n",
    "Below is a set of steps for you to follow to try to create the Tic Tac Toe Milestone Project game!"
   ]
  },
  {
   "cell_type": "markdown",
   "metadata": {},
   "source": [
    "#### Some suggested tools before you get started:\n",
    "To take input from a user:\n",
    "\n",
    "    player1 = input(\"Please pick a marker 'X' or 'O'\")\n",
    "    \n",
    "Note that input() takes in a string. If you need an integer value, use\n",
    "\n",
    "    position = int(input('Please enter a number'))\n",
    "    \n",
    "<br>To clear the screen between moves:\n",
    "\n",
    "    from IPython.display import clear_output\n",
    "    clear_output()\n",
    "    \n",
    "Note that clear_output() will only work in jupyter. To clear the screen in other IDEs, consider:\n",
    "\n",
    "    print('\\n'*100)\n",
    "    \n",
    "This scrolls the previous board up out of view. Now on to the program!"
   ]
  },
  {
   "cell_type": "markdown",
   "metadata": {},
   "source": [
    "**Step 1: Write a function that can print out a board. Set up your board as a list, where each index 1-9 corresponds with a number on a number pad, so you get a 3 by 3 board representation.**"
   ]
  },
  {
   "cell_type": "code",
   "execution_count": 23,
   "metadata": {},
   "outputs": [],
   "source": [
    "from IPython.display import clear_output\n",
    "\n",
    "def display_board(board):\n",
    "    print(\"-------------\")\n",
    "    print(board[7],\"|\",board[8],\"|\",board[9])\n",
    "    print(board[4],\"|\",board[5],\"|\",board[6])\n",
    "    print(board[1],\"|\",board[2],\"|\",board[3])   \n",
    "    print(\"-------------\")"
   ]
  },
  {
   "cell_type": "markdown",
   "metadata": {},
   "source": [
    "**TEST Step 1:** run your function on a test version of the board list, and make adjustments as necessary"
   ]
  },
  {
   "cell_type": "code",
   "execution_count": 2,
   "metadata": {},
   "outputs": [
    {
     "name": "stdout",
     "output_type": "stream",
     "text": [
      "-------------\n",
      "|  |  |  |\n",
      "|  |  |  |\n",
      "|  |  |  |\n",
      "-------------\n"
     ]
    }
   ],
   "source": [
    "#test_board = ['#','X','O','X','O','X','O','X','O','X']\n",
    "test_board = ['#','','','','','','','','','']\n",
    "display_board(test_board)"
   ]
  },
  {
   "cell_type": "markdown",
   "metadata": {},
   "source": [
    "**Step 2: Write a function that can take in a player input and assign their marker as 'X' or 'O'. Think about using *while* loops to continually ask until you get a correct answer.**"
   ]
  },
  {
   "cell_type": "code",
   "execution_count": 19,
   "metadata": {},
   "outputs": [],
   "source": [
    "def player_input():\n",
    "    j=\"noNum\"\n",
    "    while j.isdigit() == False or not(int(j) in range(1,10)):\n",
    "        j=input(\"Enter a number between 1 to 9 \\n\")\n",
    "    return j"
   ]
  },
  {
   "cell_type": "markdown",
   "metadata": {},
   "source": [
    "**TEST Step 2:** run the function to make sure it returns the desired output"
   ]
  },
  {
   "cell_type": "markdown",
   "metadata": {},
   "source": [
    "**Step 3: Write a function that takes in the board list object, a marker ('X' or 'O'), and a desired position (number 1-9) and assigns it to the board.**"
   ]
  },
  {
   "cell_type": "code",
   "execution_count": 4,
   "metadata": {},
   "outputs": [],
   "source": [
    "def place_marker(board, marker, position):\n",
    "    board[position]=marker    "
   ]
  },
  {
   "cell_type": "markdown",
   "metadata": {},
   "source": [
    "**TEST Step 3:** run the place marker function using test parameters and display the modified board"
   ]
  },
  {
   "cell_type": "code",
   "execution_count": 26,
   "metadata": {},
   "outputs": [
    {
     "name": "stdout",
     "output_type": "stream",
     "text": [
      "-------------\n",
      "  | $ |  \n",
      "  |   |  \n",
      "  |   |  \n",
      "-------------\n"
     ]
    }
   ],
   "source": [
    "place_marker(test_board,'$',8)\n",
    "display_board(test_board)"
   ]
  },
  {
   "cell_type": "markdown",
   "metadata": {},
   "source": [
    "**Step 4: Write a function that takes in a board and a mark (X or O) and then checks to see if that mark has won. **"
   ]
  },
  {
   "cell_type": "code",
   "execution_count": 6,
   "metadata": {},
   "outputs": [],
   "source": [
    "def win_check(board, mark):\n",
    "    if  board[9] == board[8] == board[7] == mark or board[6] == board[5] == board[4] == mark or board[3] == board[2] == board[1] == mark or board[9] == board[6] == board[3] == mark or board[8] == board[5] == board[2] == mark or board[7] == board[4] == board[1] == mark or board[9] == board[5] == board[1] == mark or board[7] == board[5] == board[3] == mark:\n",
    "        return True\n",
    "    else:\n",
    "        return False"
   ]
  },
  {
   "cell_type": "markdown",
   "metadata": {},
   "source": [
    "**TEST Step 4:** run the win_check function against our test_board - it should return True"
   ]
  },
  {
   "cell_type": "code",
   "execution_count": 7,
   "metadata": {},
   "outputs": [
    {
     "data": {
      "text/plain": [
       "False"
      ]
     },
     "execution_count": 7,
     "metadata": {},
     "output_type": "execute_result"
    }
   ],
   "source": [
    "win_check(test_board,'X')"
   ]
  },
  {
   "cell_type": "markdown",
   "metadata": {},
   "source": [
    "**Step 5: Write a function that uses the random module to randomly decide which player goes first. You may want to lookup random.randint() Return a string of which player went first.**"
   ]
  },
  {
   "cell_type": "code",
   "execution_count": 8,
   "metadata": {},
   "outputs": [],
   "source": [
    "import random\n",
    "\n",
    "def choose_first(j):\n",
    "    return random.randint(j[0], j[1])"
   ]
  },
  {
   "cell_type": "markdown",
   "metadata": {},
   "source": [
    "**Step 6: Write a function that returns a boolean indicating whether a space on the board is freely available.**"
   ]
  },
  {
   "cell_type": "code",
   "execution_count": 9,
   "metadata": {},
   "outputs": [],
   "source": [
    "def space_check(board, position):\n",
    "    if board[position] == '':\n",
    "        return True\n",
    "    else:\n",
    "        return False"
   ]
  },
  {
   "cell_type": "markdown",
   "metadata": {},
   "source": [
    "**Step 7: Write a function that checks if the board is full and returns a boolean value. True if full, False otherwise.**"
   ]
  },
  {
   "cell_type": "code",
   "execution_count": 10,
   "metadata": {},
   "outputs": [],
   "source": [
    "def full_board_check(board):\n",
    "    boardFull = True\n",
    "    for i in range (1, len(board)):\n",
    "        if board[i] == '':\n",
    "            boardFull = False\n",
    "    return boardFull\n",
    "        "
   ]
  },
  {
   "cell_type": "code",
   "execution_count": 11,
   "metadata": {},
   "outputs": [
    {
     "data": {
      "text/plain": [
       "False"
      ]
     },
     "execution_count": 11,
     "metadata": {},
     "output_type": "execute_result"
    }
   ],
   "source": [
    "full_board_check(test_board)"
   ]
  },
  {
   "cell_type": "markdown",
   "metadata": {},
   "source": [
    "**Step 8: Write a function that asks for a player's next position (as a number 1-9) and then uses the function from step 6 to check if it's a free position. If it is, then return the position for later use.**"
   ]
  },
  {
   "cell_type": "code",
   "execution_count": 12,
   "metadata": {},
   "outputs": [],
   "source": [
    "def player_choice(board):\n",
    "    k=int(input(\"Enter the position for your next mark: \"))\n",
    "   "
   ]
  },
  {
   "cell_type": "markdown",
   "metadata": {},
   "source": [
    "**Step 9: Write a function that asks the player if they want to play again and returns a boolean True if they do want to play again.**"
   ]
  },
  {
   "cell_type": "code",
   "execution_count": 13,
   "metadata": {},
   "outputs": [],
   "source": [
    "def replay():\n",
    "    goodInput = False\n",
    "    while goodInput == False:\n",
    "        w=input(\"Do you want to play again (Y/N): \")\n",
    "        if w == 'N' or w == 'Y':\n",
    "            goodInput = True\n",
    "            if w == 'Y':\n",
    "                return True\n",
    "            else:\n",
    "                return False"
   ]
  },
  {
   "cell_type": "markdown",
   "metadata": {
    "collapsed": true
   },
   "source": [
    "**Step 10: Here comes the hard part! Use while loops and the functions you've made to run the game!**"
   ]
  },
  {
   "cell_type": "code",
   "execution_count": 35,
   "metadata": {},
   "outputs": [
    {
     "name": "stdout",
     "output_type": "stream",
     "text": [
      "Welcome to Tic Tac Toe!\n",
      "Choosing who goes first....\n",
      "Som goes first\n",
      "Choose your symbol X or O \n",
      "X\n",
      "Som's symbol is X\n",
      "Arjun's symbol is O\n",
      "Enter a number between 1 to 9 \n",
      "8\n",
      "-------------\n",
      " | X | \n",
      " |  | \n",
      " |  | \n",
      "-------------\n",
      "Enter a number between 1 to 9 \n",
      "8\n",
      "that space is busy mate. try again\n",
      "Do you want to play again (Y/N): N\n"
     ]
    }
   ],
   "source": [
    "import time\n",
    "print('Welcome to Tic Tac Toe!')\n",
    "\n",
    "\n",
    "while True:\n",
    "    # Set the game up here\n",
    "    print(\"Choosing who goes first....\")\n",
    "    time.sleep(3)\n",
    "    players=[1,2]\n",
    "    m=choose_first(players)\n",
    "    if int(m) == 1:\n",
    "        print (\"Som goes first\")\n",
    "        som_symbol=input(\"Choose your symbol X or O \\n\")\n",
    "        firstP=som_symbol\n",
    "        if som_symbol == \"X\":\n",
    "            arjun_symbol = \"O\"\n",
    "            secondP = arjun_symbol\n",
    "        else:\n",
    "            arjun_symbol = \"X\"\n",
    "            secondP = arjun_symbol\n",
    "    else:\n",
    "        print(\"Arjun goes first\")\n",
    "        arjun_symbol=input(\"Choose your symbol X or O\\n\")\n",
    "        firstP=arjun_symbol\n",
    "        if arjun_symbol == \"X\":\n",
    "            som_symbol = \"O\"\n",
    "            secondP = som_symbol\n",
    "        else:\n",
    "            som_symbol = \"X\"\n",
    "            secondP = som_symbol\n",
    "        \n",
    "    #clear board\n",
    "    test_board = [''] * 10\n",
    "    print(f\"Som's symbol is {som_symbol}\")\n",
    "    print(f\"Arjun's symbol is {arjun_symbol}\")\n",
    "    \n",
    "    #while full_board_check(test_board) == False:\n",
    "    p1Input=player_input()\n",
    "    if space_check(test_board, int(p1Input)):\n",
    "        place_marker(test_board,firstP,int(p1Input))\n",
    "        display_board(test_board)\n",
    "    else:\n",
    "        print(\"that space is busy mate. try again\")\n",
    "        #continue\n",
    "        pass\n",
    "    \n",
    "    p2Input=player_input()\n",
    "    if space_check(test_board, int(p2Input)):\n",
    "        place_marker(test_board,secondP,int(p2Input))\n",
    "        display_board(test_board)\n",
    "    else:\n",
    "        print(\"that space is busy mate. try again\")\n",
    "        #continue\n",
    "        pass\n",
    "    \n",
    "    #check if player won\n",
    "    \n",
    "    \n",
    "    #Player 1's turn\n",
    "        \n",
    "        \n",
    "        # Player2's turn.\n",
    "            \n",
    "            #pass\n",
    "\n",
    "    if not replay():\n",
    "        break"
   ]
  },
  {
   "cell_type": "markdown",
   "metadata": {
    "collapsed": true
   },
   "source": [
    "## Good Job!"
   ]
  }
 ],
 "metadata": {
  "kernelspec": {
   "display_name": "Python 3",
   "language": "python",
   "name": "python3"
  },
  "language_info": {
   "codemirror_mode": {
    "name": "ipython",
    "version": 3
   },
   "file_extension": ".py",
   "mimetype": "text/x-python",
   "name": "python",
   "nbconvert_exporter": "python",
   "pygments_lexer": "ipython3",
   "version": "3.8.3"
  }
 },
 "nbformat": 4,
 "nbformat_minor": 1
}
